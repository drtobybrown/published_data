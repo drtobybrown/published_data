{
 "cells": [
  {
   "cell_type": "code",
   "execution_count": 1,
   "metadata": {},
   "outputs": [],
   "source": [
    "# Function to compute the standard error according to Kott, 2001 (Eq.1)\n",
    "# (http://www.jos.nu/articles/abstract.asp?article=174521)\n",
    "def JK_STDERR(x, R=5):\n",
    "    meanx = np.mean(x)\n",
    "    meanx_xi= np.zeros(R)\n",
    "    for i in range(R):\n",
    "        meanx_xi[i] = (meanx - x[i])**2\n",
    "    sum_meanx_xi = np.sum(meanx_xi)\n",
    "    var = (4./5.) * sum_meanx_xi\n",
    "    stderr = np.sqrt(var)\n",
    "    return stderr\n",
    "\n",
    "def tryint(s):\n",
    "    try:\n",
    "        return int(s)\n",
    "    except:\n",
    "        return s\n",
    "\n",
    "def alphanum_key(s):\n",
    "    \"\"\" Turn a string into a list of string and number chunks.\n",
    "        \"z23a\" -> [\"z\", 23, \"a\"]\n",
    "    \"\"\"\n",
    "    return [ tryint(c) for c in re.split('([0-9]+)', s) ]"
   ]
  },
  {
   "cell_type": "code",
   "execution_count": 2,
   "metadata": {},
   "outputs": [],
   "source": [
    "from scipy.io.idl import readsav \n",
    "import scipy.io as io\n",
    "import fnmatch\n",
    "import os\n",
    "import numpy as np\n",
    "import matplotlib.pyplot as plt\n",
    "from matplotlib import rcParams\n",
    "import re\n",
    "%matplotlib inline\n"
   ]
  },
  {
   "cell_type": "code",
   "execution_count": 3,
   "metadata": {},
   "outputs": [],
   "source": [
    "ms_path = '/Users/thbrown/PhD/environment/stacks/Y07/ms/sat_II/mhalo/'\n",
    "ssfr_path = '/Users/thbrown/PhD/environment/stacks/Y07/ssfr/sat_II/mhalo/'\n"
   ]
  },
  {
   "cell_type": "code",
   "execution_count": 4,
   "metadata": {},
   "outputs": [
    {
     "name": "stdout",
     "output_type": "stream",
     "text": [
      "No error analysis run on mh_10_12_sat_bin_4.sav\n",
      "because there's only 5 gals in bin.\n",
      "\n",
      "No error analysis run on mh_12_13_sat_bin_5.sav\n",
      "because there's only 9 gals in bin.\n",
      "\n"
     ]
    }
   ],
   "source": [
    "folders = ['mh_10_12_sat', 'mh_12_13_sat', 'mh_13_14_sat', 'mh_14_15_sat']\n",
    "\n",
    "# init gf, ms, error, cnt and detflag arrays\n",
    "gf_ms = [[] for i in range(len(folders))]\n",
    "err_ms = [[] for i in range(len(folders))]\n",
    "\n",
    "gf_ssfr = [[] for i in range(len(folders))]\n",
    "err_ssfr = [[] for i in range(len(folders))]\n",
    "\n",
    "# quantities tracked in each stacking bin\n",
    "cnt_ms = [[] for i in range(len(folders))]\n",
    "cnt_ssfr = [[] for i in range(len(folders))]\n",
    "\n",
    "ms_mean = [[] for i in range(len(folders))]\n",
    "ssfr_mean = [[] for i in range(len(folders))]\n",
    "\n",
    "# recursively step through stacks and extract \n",
    "for i in range(len(folders)):\n",
    "    # find dict.p in folder(s)\n",
    "    matches = []\n",
    "    for file in os.listdir(ms_path+folders[i]):\n",
    "        if file.endswith('.sav'):matches.append(os.path.join(ms_path+folders[i], file))\n",
    "\n",
    "    matches = sorted(matches)\n",
    "    # write information to lists for plotting\n",
    "    for match in matches:\n",
    "        \n",
    "        mhead, mtail = os.path.split(match)\n",
    "        \n",
    "        # Load the idl structures from file.\n",
    "        s = readsav(match)\n",
    "        \n",
    "        \n",
    "        gf_ms[i].append(s.stack.GF[0][0][0]) # stacked gas fraction\n",
    "        \n",
    "        try: # an exception must be made for bins where jackknife is not possible\n",
    "            err_ms[i].append(JK_STDERR(np.log10(s.stack.RESAMP_GF[0]), 5)) # error on gf\n",
    "        except AttributeError:\n",
    "            print(\"No error analysis run on \" + mtail)\n",
    "            print(\"because there's only\", s.stack.NUSED[0][0],\"gals in bin.\")\n",
    "            print(\"\")\n",
    "        \n",
    "        ms_mean[i].append(s.stack.MEAN_X[0])# mean \"x-axis\"\n",
    "        cnt_ms[i].append(s.stack.NUSED[0][0]) # number of galaxies in bin\n",
    "\n",
    "        \n",
    "# recursively step through stacks and extract \n",
    "for i in range(len(folders)):\n",
    "    # find dict.p in folder(s)\n",
    "    matches = []\n",
    "    for file in os.listdir(ssfr_path+folders[i]):\n",
    "        if file.endswith('.sav'):matches.append(os.path.join(ssfr_path+folders[i], file))\n",
    "\n",
    "    matches = sorted(matches)\n",
    "    # write information to lists for plotting\n",
    "    for match in matches:\n",
    "        \n",
    "        mhead, mtail = os.path.split(match)\n",
    "        \n",
    "        # Load the idl structures from file.\n",
    "        s = readsav(match)\n",
    "        \n",
    "        gf_ssfr[i].append(s.stack.GF[0][0][0]) # stacked gas fraction\n",
    "        \n",
    "        try: # an exception must be made for bins where jackknife is not possible\n",
    "            err_ssfr[i].append(JK_STDERR(np.log10(s.stack.RESAMP_GF[0]), 5)) # error on gf\n",
    "        except AttributeError:\n",
    "            print(\"No error analysis run on \" + mtail)\n",
    "            print(\"because there's only\", s.stack.NUSED[0][0],\"gals in bin.\")\n",
    "            print(\"\")\n",
    "        \n",
    "        ssfr_mean[i].append(s.stack.MEAN_X[0])# mean \"x-axis\"\n",
    "        cnt_ssfr[i].append(s.stack.NUSED[0][0]) # number of galaxies in bin\n"
   ]
  },
  {
   "cell_type": "code",
   "execution_count": 5,
   "metadata": {},
   "outputs": [
    {
     "name": "stdout",
     "output_type": "stream",
     "text": [
      "[ 0.3661254  -0.16016547 -0.54866827 -0.8883007  -1.1372346 ]\n"
     ]
    }
   ],
   "source": [
    "print(np.log10(gf_ms[1]))\n"
   ]
  },
  {
   "cell_type": "code",
   "execution_count": 6,
   "metadata": {},
   "outputs": [
    {
     "data": {
      "image/png": "[encoded data removed]",
      "text/plain": [
       "<Figure size 720x288 with 2 Axes>"
      ]
     },
     "metadata": {
      "needs_background": "light"
     },
     "output_type": "display_data"
    }
   ],
   "source": [
    "fig, ax = plt.subplots(1,2, sharey=True, sharex=False, figsize=[10,4])\n",
    "rcParams.update({'font.size': 15})\n",
    "fig.subplots_adjust(hspace=0, wspace=0)\n",
    "\n",
    "ax[0].set_ylabel(r'log M$_{\\rm HI}/$M$_*$', size=18, labelpad=-1)\n",
    "ax[0].set_xlabel(r'log M$_*$ [M$_{\\odot}$]', size=18, labelpad=-1)\n",
    "ax[1].set_xlabel(r'log sSFR [yr$^{-1}$]', size=18, labelpad=-1)\n",
    "ax[0].set_ylim(-2,0.8)\n",
    "ax[0].set_xlim(9,11.5)\n",
    "ax[1].set_xlim(-12.2,-9.2)\n",
    "ax[0].set_yticks([-2,-1,0])\n",
    "ax[0].set_xticks([9,10,11])\n",
    "ax[1].set_xticks([-12,-11,-10])\n",
    "\n",
    "\n",
    "#\n",
    "ax[0].plot(ms_mean[0][0:3], np.log10(gf_ms[0][0:3]), '-b', linewidth=2, alpha=0.7,\n",
    "             label=r'log M$_{\\rm h}$< 12')\n",
    "ax[0].errorbar(ms_mean[0][0:3], np.log10(gf_ms[0][0:3]), yerr=err_ms[0][0:3],\n",
    "               fmt='', linestyle='', ms=10, ecolor='b', elinewidth=2, capsize=5, capthick=1.5, alpha=0.7)\n",
    "\n",
    "ax[0].plot(ms_mean[1][0:4], np.log10(gf_ms[1][0:4]), '-g', linewidth=2, alpha=0.7,\n",
    "             label=r'log M$_{\\rm h}$= [12,13)')\n",
    "ax[0].errorbar(ms_mean[1][0:4], np.log10(gf_ms[1][0:4]), yerr=err_ms[1][0:4],\n",
    "               fmt='', linestyle='', ms=10, ecolor='g', elinewidth=2, capsize=5, capthick=1.5, alpha=0.7)\n",
    "\n",
    "ax[0].plot(ms_mean[2], np.log10(gf_ms[2]), '-m', linewidth=2, alpha=0.7,\n",
    "             label=r'log M$_{\\rm h}$= [13,14)')\n",
    "ax[0].errorbar(ms_mean[2], np.log10(gf_ms[2]), yerr=err_ms[2],\n",
    "               fmt='', linestyle='', ms=10, ecolor='m', elinewidth=2, capsize=5, capthick=1.5, alpha=0.7)\n",
    "\n",
    "ax[0].plot(ms_mean[3], np.log10(gf_ms[3]), '-r', linewidth=2, alpha=0.7,\n",
    "             label=r'log M$_{\\rm h}$= [14,15]')\n",
    "ax[0].errorbar(ms_mean[3], np.log10(gf_ms[3]), yerr=err_ms[3],\n",
    "               fmt='', linestyle='', ms=10, ecolor='r', elinewidth=2, capsize=5, capthick=1.5, alpha=0.7)\n",
    "\n",
    "ax[1].plot(ssfr_mean[0], np.log10(gf_ssfr[0]), '-b', linewidth=2, alpha=0.7,\n",
    "             label=r'log M$_{\\rm h}$< 12')\n",
    "ax[1].errorbar(ssfr_mean[0], np.log10(gf_ssfr[0]), yerr=err_ssfr[0],\n",
    "               fmt='', linestyle='', ms=10, ecolor='b', elinewidth=2, capsize=5, capthick=1.5, alpha=0.7)\n",
    "ax[1].plot(ssfr_mean[1], np.log10(gf_ssfr[1]), '-g', linewidth=2, alpha=0.7,\n",
    "             label=r'log M$_{\\rm h}$= [12,13)')\n",
    "ax[1].errorbar(ssfr_mean[1], np.log10(gf_ssfr[1]), yerr=err_ssfr[1],\n",
    "               fmt='', linestyle='', ms=10, ecolor='g', elinewidth=2, capsize=5, capthick=1.5, alpha=0.7)\n",
    "ax[1].plot(ssfr_mean[2], np.log10(gf_ssfr[2]), '-m', linewidth=2, alpha=0.7,\n",
    "             label=r'log M$_{\\rm h}$= [13,14)')\n",
    "ax[1].errorbar(ssfr_mean[2], np.log10(gf_ssfr[2]), yerr=err_ssfr[2],\n",
    "               fmt='', linestyle='', ms=10, ecolor='m', elinewidth=2, capsize=5, capthick=1.5, alpha=0.7)\n",
    "ax[1].plot(ssfr_mean[3], np.log10(gf_ssfr[3]), '-r', linewidth=2, alpha=0.7,\n",
    "             label=r'log M$_{\\rm h}$= [14,15]')\n",
    "ax[1].errorbar(ssfr_mean[3], np.log10(gf_ssfr[3]), yerr=err_ssfr[3],\n",
    "               fmt='', linestyle='', ms=10, ecolor='r', elinewidth=2, capsize=5, capthick=1.5, alpha=0.7)\n",
    "\n",
    "# strcnt = [[str(j) for j in i] for i in cnt]\n",
    "\n",
    "ax[0].legend(scatterpoints=1,\n",
    "             labelspacing=0,\n",
    "            loc=1,\n",
    "            ncol=1,\n",
    "            fontsize=13,\n",
    "            frameon=False,\n",
    "            #bbox_to_anchor=(1.05, 1),\n",
    "            borderaxespad=0.)\n",
    "\n",
    "ax[0].annotate('(a)',xy=(9, -2), xytext=(0.1, 0.92),textcoords='axes fraction', size=13)\n",
    "ax[1].annotate('(b)',xy=(-12, -2), xytext=(0.1, 0.92),textcoords='axes fraction', size=13)\n",
    "\n",
    "cnt_colour = ['k','b','g','m','r']\n",
    "for i in range(len(cnt_ms)):\n",
    "    ax[0].annotate('%s' % cnt_ms[i], xy=(9.2,-1.4 - (i * .15)),\n",
    "                textcoords='data',color=cnt_colour[i], fontsize=8)\n",
    "    ax[1].annotate('%s' % cnt_ssfr[i], xy=(-10.8,-1.4 - (i * .15)),\n",
    "                textcoords='data',color=cnt_colour[i], fontsize=8)\n",
    "\n",
    "plt.savefig('gf_mh_sat.png',\n",
    "            bbox_inches='tight',dpi=300)\n",
    "# plt.show()"
   ]
  },
  {
   "cell_type": "code",
   "execution_count": 25,
   "metadata": {},
   "outputs": [
    {
     "name": "stdout",
     "output_type": "stream",
     "text": [
      "\n",
      "log M* [Msol]\n",
      "log Mh < 12:  9.20, 9.62, 10.08, 10.51\n",
      "log Mh = [12,13):  9.21, 9.64, 10.14, 10.57, 10.94\n",
      "log Mh = [13,14):  9.22, 9.65, 10.14, 10.63, 11.03\n",
      "log Mh = [14,15]:  9.22, 9.67, 10.15, 10.62, 11.08\n"
     ]
    },
    {
     "data": {
      "text/plain": [
       "[None, None, None, None]"
      ]
     },
     "execution_count": 25,
     "metadata": {},
     "output_type": "execute_result"
    }
   ],
   "source": [
    "labels = [r'log Mh < 12: '\n",
    "          , r'log Mh = [12,13): '\n",
    "          , r'log Mh = [13,14): '\n",
    "          , r'log Mh = [14,15]: ']\n",
    "print('')\n",
    "print(\"log M* [Msol]\")\n",
    "[print(label,\", \".join([\"{:.2f}\"]*len(ms)).format(*ms)) for label, ms in zip(labels, ms_mean)]\n",
    "\n",
    "# [print(label,ms) for label, ms in zip(labels,ms_mean)]\n",
    "# print(\"log MHI/M*\")\n",
    "# [print(label,np.log10(gf)) for label, gf in zip(labels, gf_ms)]\n",
    "# print(\"+/-MHI/M* [dex]\")\n",
    "# [print(label, error) for label, error in zip(labels, err_ms)]"
   ]
  },
  {
   "cell_type": "code",
   "execution_count": 8,
   "metadata": {},
   "outputs": [
    {
     "name": "stdout",
     "output_type": "stream",
     "text": [
      "log sSFR [Msol/yr]\n",
      "log Mh < 12:  [-11.7130575, -10.989758, -9.8827715, -9.355674]\n",
      "log Mh = [12,13):  [-11.7843, -10.972553, -10.018729, -9.33664]\n",
      "log Mh = [13,14):  [-11.843311, -11.009309, -10.051862, -9.389372]\n",
      "log Mh = [14,15]:  [-11.839383, -11.067348, -10.044275, -9.334857]\n",
      "log MHI/M*\n",
      "log Mh < 12:  [-0.5316975  -0.30148804  0.27305797  0.610277  ]\n",
      "log Mh = [12,13):  [-0.79838765 -0.39502543  0.08441856  0.5842644 ]\n",
      "log Mh = [13,14):  [-1.3190825  -0.7299108  -0.17110837  0.28457373]\n",
      "log Mh = [14,15]:  [-1.7909185  -1.3400382  -0.32136622  0.19594643]\n",
      "+/-MHI/M* [dex]\n",
      "log Mh < 12:  [0.04209463871287157, 0.06718382280037374, 0.013998319653820215, 0.03320986371925041]\n",
      "log Mh = [12,13):  [0.15486604812214197, 0.04216755610084684, 0.0057767627332189235, 0.034633698417896534]\n",
      "log Mh = [13,14):  [0.06387292197783298, 0.026392975762309492, 0.005074301592847933, 0.05171545785166977]\n",
      "log Mh = [14,15]:  [0.09121696669368524, 0.01733292634977179, 0.0466771151746463, 0.09172707519490268]\n"
     ]
    },
    {
     "data": {
      "text/plain": [
       "[None, None, None, None]"
      ]
     },
     "execution_count": 8,
     "metadata": {},
     "output_type": "execute_result"
    }
   ],
   "source": [
    "labels = [r'log Mh < 12: '\n",
    "          , r'log Mh = [12,13): '\n",
    "          , r'log Mh = [13,14): '\n",
    "          , r'log Mh = [14,15]: ']\n",
    "print(\"log sSFR [Msol/yr]\")\n",
    "[print(label,ssfr) for label, ssfr in zip(labels,ssfr_mean)]\n",
    "print(\"log MHI/M*\")\n",
    "[print(label, np.log10(gf)) for label, gf in zip(labels, gf_ssfr)]\n",
    "print(\"+/-MHI/M* [dex]\")\n",
    "[print(label,error) for label, error in zip(labels, err_ssfr)]"
   ]
  },
  {
   "cell_type": "code",
   "execution_count": null,
   "metadata": {},
   "outputs": [],
   "source": []
  },
  {
   "cell_type": "code",
   "execution_count": null,
   "metadata": {},
   "outputs": [],
   "source": []
  }
 ],
 "metadata": {
  "kernelspec": {
   "display_name": "Python 3",
   "language": "python",
   "name": "python3"
  },
  "language_info": {
   "codemirror_mode": {
    "name": "ipython",
    "version": 3
   },
   "file_extension": ".py",
   "mimetype": "text/x-python",
   "name": "python",
   "nbconvert_exporter": "python",
   "pygments_lexer": "ipython3",
   "version": "3.7.8"
  }
 },
 "nbformat": 4,
 "nbformat_minor": 1
}
